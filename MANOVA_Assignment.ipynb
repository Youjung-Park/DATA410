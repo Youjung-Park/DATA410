{
 "cells": [
  {
   "cell_type": "markdown",
   "id": "4b523e69",
   "metadata": {},
   "source": [
    "# MANOVA example dataset\n"
   ]
  },
  {
   "cell_type": "markdown",
   "id": "ebbc8970",
   "metadata": {},
   "source": [
    "https://www.statsmodels.org/dev/generated/statsmodels.multivariate.manova.MANOVA.html"
   ]
  },
  {
   "cell_type": "markdown",
   "id": "285d32c5",
   "metadata": {},
   "source": [
    "Suppose we have a dataset of various plant varieties (plant_var) and their associated phenotypic measurements for plant heights (height) and canopy volume (canopy_vol). We want to see if plant heights and canopy volume are associated with different plant varieties using MANOVA."
   ]
  },
  {
   "cell_type": "markdown",
   "id": "801f48c7",
   "metadata": {},
   "source": [
    "### Load dataset"
   ]
  },
  {
   "cell_type": "code",
   "execution_count": 1,
   "id": "067874a5",
   "metadata": {},
   "outputs": [
    {
     "data": {
      "text/html": [
       "<div>\n",
       "<style scoped>\n",
       "    .dataframe tbody tr th:only-of-type {\n",
       "        vertical-align: middle;\n",
       "    }\n",
       "\n",
       "    .dataframe tbody tr th {\n",
       "        vertical-align: top;\n",
       "    }\n",
       "\n",
       "    .dataframe thead th {\n",
       "        text-align: right;\n",
       "    }\n",
       "</style>\n",
       "<table border=\"1\" class=\"dataframe\">\n",
       "  <thead>\n",
       "    <tr style=\"text-align: right;\">\n",
       "      <th></th>\n",
       "      <th>plant_var</th>\n",
       "      <th>height</th>\n",
       "      <th>canopy_vol</th>\n",
       "    </tr>\n",
       "  </thead>\n",
       "  <tbody>\n",
       "    <tr>\n",
       "      <th>0</th>\n",
       "      <td>A</td>\n",
       "      <td>20.0</td>\n",
       "      <td>0.70</td>\n",
       "    </tr>\n",
       "    <tr>\n",
       "      <th>1</th>\n",
       "      <td>A</td>\n",
       "      <td>22.0</td>\n",
       "      <td>0.80</td>\n",
       "    </tr>\n",
       "    <tr>\n",
       "      <th>2</th>\n",
       "      <td>A</td>\n",
       "      <td>24.0</td>\n",
       "      <td>0.95</td>\n",
       "    </tr>\n",
       "    <tr>\n",
       "      <th>3</th>\n",
       "      <td>A</td>\n",
       "      <td>18.0</td>\n",
       "      <td>0.60</td>\n",
       "    </tr>\n",
       "    <tr>\n",
       "      <th>4</th>\n",
       "      <td>A</td>\n",
       "      <td>20.0</td>\n",
       "      <td>0.74</td>\n",
       "    </tr>\n",
       "  </tbody>\n",
       "</table>\n",
       "</div>"
      ],
      "text/plain": [
       "  plant_var  height  canopy_vol\n",
       "0         A    20.0        0.70\n",
       "1         A    22.0        0.80\n",
       "2         A    24.0        0.95\n",
       "3         A    18.0        0.60\n",
       "4         A    20.0        0.74"
      ]
     },
     "execution_count": 1,
     "metadata": {},
     "output_type": "execute_result"
    }
   ],
   "source": [
    "import pandas as pd\n",
    "df=pd.read_csv(\"https://reneshbedre.github.io/assets/posts/ancova/manova_data.csv\")\n",
    "df.head(5)"
   ]
  },
  {
   "cell_type": "markdown",
   "id": "6bb7deb4",
   "metadata": {},
   "source": [
    "### Summary statistics and visualization of dataset"
   ]
  },
  {
   "cell_type": "markdown",
   "id": "a29b2183",
   "metadata": {},
   "source": [
    "Get summary statistics based on each dependent variable"
   ]
  },
  {
   "cell_type": "code",
   "execution_count": 2,
   "id": "44390fd2",
   "metadata": {},
   "outputs": [
    {
     "data": {
      "text/plain": [
       "[plant_var\n",
       " A    18.90\n",
       " B    16.54\n",
       " C     3.05\n",
       " D     9.35\n",
       " Name: height, dtype: float64,\n",
       " plant_var\n",
       " A    10\n",
       " B    10\n",
       " C    10\n",
       " D    10\n",
       " Name: height, dtype: int64,\n",
       " plant_var\n",
       " A    2.923088\n",
       " B    1.920185\n",
       " C    1.039498\n",
       " D    2.106735\n",
       " Name: height, dtype: float64]"
      ]
     },
     "execution_count": 2,
     "metadata": {},
     "output_type": "execute_result"
    }
   ],
   "source": [
    "[df.groupby(\"plant_var\")[\"height\"].mean(),df.groupby(\"plant_var\")[\"height\"].count(),df.groupby(\"plant_var\")[\"height\"].std()]"
   ]
  },
  {
   "cell_type": "code",
   "execution_count": 3,
   "id": "ccdd90fb",
   "metadata": {},
   "outputs": [
    {
     "data": {
      "text/plain": [
       "[plant_var\n",
       " A    0.784\n",
       " B    0.608\n",
       " C    0.272\n",
       " D    0.474\n",
       " Name: canopy_vol, dtype: float64,\n",
       " plant_var\n",
       " A    10\n",
       " B    10\n",
       " C    10\n",
       " D    10\n",
       " Name: canopy_vol, dtype: int64,\n",
       " plant_var\n",
       " A    0.121308\n",
       " B    0.096816\n",
       " C    0.143279\n",
       " D    0.094540\n",
       " Name: canopy_vol, dtype: float64]"
      ]
     },
     "execution_count": 3,
     "metadata": {},
     "output_type": "execute_result"
    }
   ],
   "source": [
    "[df.groupby(\"plant_var\")[\"canopy_vol\"].mean(),df.groupby(\"plant_var\")[\"canopy_vol\"].count(),df.groupby(\"plant_var\")[\"canopy_vol\"].std()]"
   ]
  },
  {
   "cell_type": "markdown",
   "id": "8f99995c",
   "metadata": {},
   "source": [
    "### Visualize dataset"
   ]
  },
  {
   "cell_type": "code",
   "execution_count": 4,
   "id": "bfd627b1",
   "metadata": {},
   "outputs": [
    {
     "data": {
      "image/png": "[encoded data removed]",
      "text/plain": [
       "<Figure size 640x480 with 2 Axes>"
      ]
     },
     "metadata": {},
     "output_type": "display_data"
    }
   ],
   "source": [
    "import seaborn as sns\n",
    "import matplotlib.pyplot as plt\n",
    "fig, axs = plt.subplots(ncols=2)\n",
    "sns.boxplot(data=df, x=\"plant_var\", y=\"height\", hue=df.plant_var.tolist(), ax=axs[0])\n",
    "sns.boxplot(data=df, x=\"plant_var\", y=\"canopy_vol\", hue=df.plant_var.tolist(), ax=axs[1])\n",
    "plt.show()"
   ]
  },
  {
   "cell_type": "markdown",
   "id": "016aeb1a",
   "metadata": {},
   "source": [
    "### Perform one-way MANOVA"
   ]
  },
  {
   "cell_type": "code",
   "execution_count": 5,
   "id": "f99e8b28",
   "metadata": {},
   "outputs": [
    {
     "name": "stdout",
     "output_type": "stream",
     "text": [
      "                  Multivariate linear model\n",
      "==============================================================\n",
      "                                                              \n",
      "--------------------------------------------------------------\n",
      "       Intercept         Value  Num DF  Den DF F Value  Pr > F\n",
      "--------------------------------------------------------------\n",
      "          Wilks' lambda  0.0374 2.0000 35.0000 450.0766 0.0000\n",
      "         Pillai's trace  0.9626 2.0000 35.0000 450.0766 0.0000\n",
      " Hotelling-Lawley trace 25.7187 2.0000 35.0000 450.0766 0.0000\n",
      "    Roy's greatest root 25.7187 2.0000 35.0000 450.0766 0.0000\n",
      "--------------------------------------------------------------\n",
      "                                                              \n",
      "--------------------------------------------------------------\n",
      "       plant_var         Value  Num DF  Den DF F Value  Pr > F\n",
      "--------------------------------------------------------------\n",
      "          Wilks' lambda  0.0797 6.0000 70.0000  29.6513 0.0000\n",
      "         Pillai's trace  1.0365 6.0000 72.0000  12.9093 0.0000\n",
      " Hotelling-Lawley trace 10.0847 6.0000 44.9320  58.0496 0.0000\n",
      "    Roy's greatest root  9.9380 3.0000 36.0000 119.2558 0.0000\n",
      "==============================================================\n",
      "\n"
     ]
    }
   ],
   "source": [
    "from statsmodels.multivariate.manova import MANOVA\n",
    "fit = MANOVA.from_formula('height + canopy_vol ~ plant_var', data=df)\n",
    "print(fit.mv_test())"
   ]
  },
  {
   "cell_type": "markdown",
   "id": "4456810e",
   "metadata": {},
   "source": [
    "### Make a Conclusion"
   ]
  },
  {
   "cell_type": "markdown",
   "id": "8b886147",
   "metadata": {},
   "source": [
    "The Pillai’s Trace test statistics is statistically significant [Pillai’s Trace = 1.03, F(6, 72) = 12.90, p < 0.001] and indicates that plant varieties has a statistically significant association with both combined plant height and canopy volume."
   ]
  },
  {
   "cell_type": "markdown",
   "id": "6847d560",
   "metadata": {},
   "source": [
    "## Your Task 1"
   ]
  },
  {
   "cell_type": "markdown",
   "id": "f009e14b",
   "metadata": {},
   "source": [
    "Suppose we have gathered the following data on female athletes in three sports. The\n",
    "measurements we have made are the athletes' heights and vertical jumps, both in inches. The\n",
    "data are listed as (height, jump) as follows:\n",
    "Basketball Players:\n",
    "Track Athletes:\n",
    "Softball Players:\n",
    "(66, 27), (65, 29), (68, 26), (64, 29), (67, 29)\n",
    "(63, 23), (61, 26), (62, 23), (60, 26)\n",
    "(62, 23), (65, 21), (63, 21), (62, 23), (63.5, 22), (66, 21.5)"
   ]
  },
  {
   "cell_type": "markdown",
   "id": "fe2c2b65",
   "metadata": {},
   "source": [
    "Use statsmodels.multivariate.manova Python to conduct the MANOVA F-test using Wilks' Lambda to test for a difference in\n",
    "(height, jump) mean vectors across the three sports. Make sure you include clear command\n",
    "lines and relevant output/results with hypotheses, test result(s) and\n",
    "conclusion(s)/interpretation(s)"
   ]
  },
  {
   "cell_type": "code",
   "execution_count": 6,
   "id": "157239cf",
   "metadata": {},
   "outputs": [
    {
     "data": {
      "text/html": [
       "<div>\n",
       "<style scoped>\n",
       "    .dataframe tbody tr th:only-of-type {\n",
       "        vertical-align: middle;\n",
       "    }\n",
       "\n",
       "    .dataframe tbody tr th {\n",
       "        vertical-align: top;\n",
       "    }\n",
       "\n",
       "    .dataframe thead th {\n",
       "        text-align: right;\n",
       "    }\n",
       "</style>\n",
       "<table border=\"1\" class=\"dataframe\">\n",
       "  <thead>\n",
       "    <tr style=\"text-align: right;\">\n",
       "      <th></th>\n",
       "      <th>sports</th>\n",
       "      <th>height</th>\n",
       "      <th>jump</th>\n",
       "    </tr>\n",
       "  </thead>\n",
       "  <tbody>\n",
       "    <tr>\n",
       "      <th>0</th>\n",
       "      <td>Basketball</td>\n",
       "      <td>66.0</td>\n",
       "      <td>27.0</td>\n",
       "    </tr>\n",
       "    <tr>\n",
       "      <th>1</th>\n",
       "      <td>Basketball</td>\n",
       "      <td>65.0</td>\n",
       "      <td>29.0</td>\n",
       "    </tr>\n",
       "    <tr>\n",
       "      <th>2</th>\n",
       "      <td>Basketball</td>\n",
       "      <td>68.0</td>\n",
       "      <td>26.0</td>\n",
       "    </tr>\n",
       "    <tr>\n",
       "      <th>3</th>\n",
       "      <td>Basketball</td>\n",
       "      <td>64.0</td>\n",
       "      <td>29.0</td>\n",
       "    </tr>\n",
       "    <tr>\n",
       "      <th>4</th>\n",
       "      <td>Basketball</td>\n",
       "      <td>67.0</td>\n",
       "      <td>29.0</td>\n",
       "    </tr>\n",
       "    <tr>\n",
       "      <th>5</th>\n",
       "      <td>Track</td>\n",
       "      <td>63.0</td>\n",
       "      <td>23.0</td>\n",
       "    </tr>\n",
       "    <tr>\n",
       "      <th>6</th>\n",
       "      <td>Track</td>\n",
       "      <td>61.0</td>\n",
       "      <td>26.0</td>\n",
       "    </tr>\n",
       "    <tr>\n",
       "      <th>7</th>\n",
       "      <td>Track</td>\n",
       "      <td>62.0</td>\n",
       "      <td>23.0</td>\n",
       "    </tr>\n",
       "    <tr>\n",
       "      <th>8</th>\n",
       "      <td>Track</td>\n",
       "      <td>60.0</td>\n",
       "      <td>26.0</td>\n",
       "    </tr>\n",
       "    <tr>\n",
       "      <th>9</th>\n",
       "      <td>Softball</td>\n",
       "      <td>62.0</td>\n",
       "      <td>23.0</td>\n",
       "    </tr>\n",
       "    <tr>\n",
       "      <th>10</th>\n",
       "      <td>Softball</td>\n",
       "      <td>65.0</td>\n",
       "      <td>21.0</td>\n",
       "    </tr>\n",
       "    <tr>\n",
       "      <th>11</th>\n",
       "      <td>Softball</td>\n",
       "      <td>63.0</td>\n",
       "      <td>21.0</td>\n",
       "    </tr>\n",
       "    <tr>\n",
       "      <th>12</th>\n",
       "      <td>Softball</td>\n",
       "      <td>62.0</td>\n",
       "      <td>23.0</td>\n",
       "    </tr>\n",
       "    <tr>\n",
       "      <th>13</th>\n",
       "      <td>Softball</td>\n",
       "      <td>63.5</td>\n",
       "      <td>22.0</td>\n",
       "    </tr>\n",
       "    <tr>\n",
       "      <th>14</th>\n",
       "      <td>Softball</td>\n",
       "      <td>66.0</td>\n",
       "      <td>21.5</td>\n",
       "    </tr>\n",
       "  </tbody>\n",
       "</table>\n",
       "</div>"
      ],
      "text/plain": [
       "        sports  height  jump\n",
       "0   Basketball    66.0  27.0\n",
       "1   Basketball    65.0  29.0\n",
       "2   Basketball    68.0  26.0\n",
       "3   Basketball    64.0  29.0\n",
       "4   Basketball    67.0  29.0\n",
       "5        Track    63.0  23.0\n",
       "6        Track    61.0  26.0\n",
       "7        Track    62.0  23.0\n",
       "8        Track    60.0  26.0\n",
       "9     Softball    62.0  23.0\n",
       "10    Softball    65.0  21.0\n",
       "11    Softball    63.0  21.0\n",
       "12    Softball    62.0  23.0\n",
       "13    Softball    63.5  22.0\n",
       "14    Softball    66.0  21.5"
      ]
     },
     "execution_count": 6,
     "metadata": {},
     "output_type": "execute_result"
    }
   ],
   "source": [
    "# YOUR CODE here\n",
    "# Define your dataframe\n",
    "\n",
    "data = {\"sports\": [\"Basketball\", \"Basketball\", \"Basketball\", \"Basketball\", \"Basketball\", \"Track\", \"Track\", \"Track\", \"Track\", \"Softball\", \"Softball\", \"Softball\", \"Softball\", \"Softball\", \"Softball\"],\n",
    "                    \"height\" : [66, 65, 68, 64, 67, 63, 61, 62, 60, 62, 65, 63, 62, 63.5, 66],\n",
    "                    \"jump\": [27, 29, 26, 29, 29, 23, 26, 23, 26, 23, 21, 21, 23, 22, 21.5]}\n",
    "\n",
    "players = pd.DataFrame(data)\n",
    "players"
   ]
  },
  {
   "cell_type": "code",
   "execution_count": 7,
   "id": "b7234837",
   "metadata": {},
   "outputs": [
    {
     "name": "stdout",
     "output_type": "stream",
     "text": [
      "Summary Statistics (Counts, Mean, Standard Deviation) for 'height' grouped by sports\n",
      "[sports\n",
      "Basketball    5\n",
      "Softball      6\n",
      "Track         4\n",
      "Name: height, dtype: int64, sports\n",
      "Basketball    66.000000\n",
      "Softball      63.583333\n",
      "Track         61.500000\n",
      "Name: height, dtype: float64, sports\n",
      "Basketball    1.581139\n",
      "Softball      1.625320\n",
      "Track         1.290994\n",
      "Name: height, dtype: float64]\n",
      "\n",
      "Summary Statistics (Counts, Mean, Standard Deviation) for 'jump' grouped by sports\n",
      "[sports\n",
      "Basketball    5\n",
      "Softball      6\n",
      "Track         4\n",
      "Name: jump, dtype: int64, sports\n",
      "Basketball    28.000000\n",
      "Softball      21.916667\n",
      "Track         24.500000\n",
      "Name: jump, dtype: float64, sports\n",
      "Basketball    1.414214\n",
      "Softball      0.917424\n",
      "Track         1.732051\n",
      "Name: jump, dtype: float64]\n"
     ]
    }
   ],
   "source": [
    "# Check data\n",
    "\n",
    "# get summary\n",
    "print(\"Summary Statistics (Counts, Mean, Standard Deviation) for 'height' grouped by sports\")\n",
    "print([players.groupby(\"sports\")[\"height\"].count(), players.groupby(\"sports\")[\"height\"].mean(), players.groupby(\"sports\")[\"height\"].std()])\n",
    "print(\"\\nSummary Statistics (Counts, Mean, Standard Deviation) for 'jump' grouped by sports\")\n",
    "print([players.groupby(\"sports\")[\"jump\"].count(), players.groupby(\"sports\")[\"jump\"].mean(), players.groupby(\"sports\")[\"jump\"].std()])"
   ]
  },
  {
   "cell_type": "markdown",
   "id": "f915774a",
   "metadata": {},
   "source": [
    "### Visualize dataset"
   ]
  },
  {
   "cell_type": "code",
   "execution_count": 97,
   "id": "a1586064",
   "metadata": {},
   "outputs": [
    {
     "data": {
      "image/png": "[encoded data removed]",
      "text/plain": [
       "<Figure size 640x480 with 2 Axes>"
      ]
     },
     "metadata": {},
     "output_type": "display_data"
    }
   ],
   "source": [
    "fig, axs = plt.subplots(ncols=2)\n",
    "sns.boxplot(data=players, x=\"sports\", y=\"height\", hue=players.sports.tolist(), ax=axs[0])\n",
    "sns.boxplot(data=players, x=\"sports\", y=\"jump\", hue=players.sports.tolist(), ax=axs[1])\n",
    "plt.show()"
   ]
  },
  {
   "cell_type": "markdown",
   "id": "7087a650",
   "metadata": {},
   "source": [
    "MANOVA F-test using Wilks' Lambda to test for a difference in (height, jump) mean vectors across the three sports.\n",
    "\n",
    "HO : all means are equal \\\n",
    "Ha : not all means are equal"
   ]
  },
  {
   "cell_type": "code",
   "execution_count": 8,
   "id": "11ccf59d",
   "metadata": {},
   "outputs": [
    {
     "name": "stdout",
     "output_type": "stream",
     "text": [
      "                    Multivariate linear model\n",
      "==================================================================\n",
      "                                                                  \n",
      "------------------------------------------------------------------\n",
      "       Intercept          Value   Num DF  Den DF  F Value   Pr > F\n",
      "------------------------------------------------------------------\n",
      "          Wilks' lambda    0.0003 2.0000 11.0000 16211.0812 0.0000\n",
      "         Pillai's trace    0.9997 2.0000 11.0000 16211.0812 0.0000\n",
      " Hotelling-Lawley trace 2947.4693 2.0000 11.0000 16211.0812 0.0000\n",
      "    Roy's greatest root 2947.4693 2.0000 11.0000 16211.0812 0.0000\n",
      "------------------------------------------------------------------\n",
      "                                                                  \n",
      "------------------------------------------------------------------\n",
      "             sports          Value  Num DF  Den DF F Value  Pr > F\n",
      "------------------------------------------------------------------\n",
      "              Wilks' lambda  0.0359 4.0000 22.0000  23.5362 0.0000\n",
      "             Pillai's trace  1.3041 4.0000 24.0000  11.2436 0.0000\n",
      "     Hotelling-Lawley trace 17.3958 4.0000 12.2353  46.7887 0.0000\n",
      "        Roy's greatest root 16.8329 2.0000 12.0000 100.9974 0.0000\n",
      "==================================================================\n",
      "\n"
     ]
    }
   ],
   "source": [
    "# fit the data using MANOVA\n",
    "test = MANOVA.from_formula('height + jump ~ sports', data = players)\n",
    "print(test.mv_test())"
   ]
  },
  {
   "cell_type": "markdown",
   "id": "62b238a5",
   "metadata": {},
   "source": [
    "### Make a Conclusion"
   ]
  },
  {
   "cell_type": "markdown",
   "id": "54714f70",
   "metadata": {},
   "source": [
    "The Wilks' Lambda test result shows a statistically significant multivariate effect of female athletes [Wilks' lambda = 0.0359, F(4, 22) = 23.54, p < 0.000], indicating that athletes' heights and vertical jumps differ based on the type of sports they play."
   ]
  },
  {
   "cell_type": "markdown",
   "id": "b83dc8fb",
   "metadata": {},
   "source": [
    "## Your Task 2 (bonus and optional)"
   ]
  },
  {
   "cell_type": "markdown",
   "id": "f0858539",
   "metadata": {},
   "source": [
    "For the above problem, try to use non-built-in function in Python to calculate F score and check with your built-in function output above"
   ]
  },
  {
   "cell_type": "code",
   "execution_count": 89,
   "id": "bfdebf8d",
   "metadata": {},
   "outputs": [
    {
     "name": "stdout",
     "output_type": "stream",
     "text": [
      "[[30.43055556 25.06944444]\n",
      " [25.06944444 55.93055556]]\n",
      "[[ 28.20833333 -17.20833333]\n",
      " [-17.20833333  21.20833333]]\n"
     ]
    }
   ],
   "source": [
    "# YOUR CODE HERE\n",
    "import numpy as np\n",
    "\n",
    "# convert dataframe to np array\n",
    "array = players.to_numpy()\n",
    "\n",
    "# split data into groups\n",
    "basketball = np.delete(array[:5], [0], axis = 1)\n",
    "track = np.delete(array[5:9], [0], axis = 1)\n",
    "softball = np.delete(array[9:], [0], axis = 1)\n",
    "\n",
    "# calculate each group and all means\n",
    "basketball_mean = basketball.mean(axis=0)\n",
    "track_mean = track.mean(axis=0)\n",
    "softball_mean = softball.mean(axis=0)\n",
    "all_mean = (basketball_mean + track_mean + softball_mean) / 3\n",
    "\n",
    "# differences\n",
    "basketball_diff = np.array([basketball_mean - all_mean], dtype='float64')\n",
    "track_diff = np.array([track_mean - all_mean], dtype='float64')\n",
    "softball_diff = np.array([softball_mean - all_mean], dtype='float64')\n",
    "\n",
    "# calculate SSH\n",
    "SSH = 3*((basketball_diff.transpose().dot(basketball_diff)) + (track_diff.transpose().dot(track_diff)) + (softball_diff.transpose().dot(softball_diff)))\n",
    "print(SSH)\n",
    "\n",
    "# calculate SSE\n",
    "\n",
    "def within_matrix(matrix):\n",
    "    result = 0\n",
    "    for i in range(len(matrix)):\n",
    "        diff = np.array([matrix[i] - matrix.mean(axis = 0)], dtype='float64')\n",
    "        result += diff.transpose().dot(diff)\n",
    "    return result\n",
    "\n",
    "SSE = within_matrix(basketball) + within_matrix(track) + within_matrix(softball)\n",
    "print(SSE)\n"
   ]
  },
  {
   "cell_type": "code",
   "execution_count": 94,
   "id": "21afad88",
   "metadata": {},
   "outputs": [
    {
     "data": {
      "text/plain": [
       "0.06771762376607485"
      ]
     },
     "execution_count": 94,
     "metadata": {},
     "output_type": "execute_result"
    }
   ],
   "source": [
    "# perform Wilks' Test\n",
    "np.linalg.det(SSE) / np.linalg.det(SSE + SSH)"
   ]
  },
  {
   "cell_type": "markdown",
   "id": "663c4f2d",
   "metadata": {},
   "source": [
    "### Make a Conclusion"
   ]
  },
  {
   "cell_type": "markdown",
   "id": "0069fea8",
   "metadata": {},
   "source": [
    "The manually calculated Wilks' Lambda test statistic is not same as the one calculated using 'statsmodels.multivariate.manova' MANOVA F-test. However, I would say that there is significant evidence to reject the null hypothesis since the manually claculated statistic is very close to 0. The value close to 0 indicates that there is little variance left unexplained by the independent variable, supporting rejection of the null hypothesis. "
   ]
  },
  {
   "cell_type": "code",
   "execution_count": 1,
   "id": "52e70f40",
   "metadata": {},
   "outputs": [
    {
     "name": "stderr",
     "output_type": "stream",
     "text": [
      "[NbConvertApp] Converting notebook MANOVA_Assignment.ipynb to html\n",
      "[NbConvertApp] WARNING | Alternative text is missing on 2 image(s).\n",
      "[NbConvertApp] Writing 372900 bytes to MANOVA_Assignment.html\n"
     ]
    }
   ],
   "source": [
    "!jupyter nbconvert --to html MANOVA_Assignment.ipynb"
   ]
  }
 ],
 "metadata": {
  "kernelspec": {
   "display_name": "Python 3 (ipykernel)",
   "language": "python",
   "name": "python3"
  },
  "language_info": {
   "codemirror_mode": {
    "name": "ipython",
    "version": 3
   },
   "file_extension": ".py",
   "mimetype": "text/x-python",
   "name": "python",
   "nbconvert_exporter": "python",
   "pygments_lexer": "ipython3",
   "version": "3.11.3"
  }
 },
 "nbformat": 4,
 "nbformat_minor": 5
}
